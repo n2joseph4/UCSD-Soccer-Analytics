{
 "cells": [
  {
   "cell_type": "code",
   "execution_count": 2,
   "metadata": {},
   "outputs": [],
   "source": [
    "import pandas as pd\n",
    "import matplotlib.pyplot as plt\n",
    "from scipy import stats"
   ]
  },
  {
   "cell_type": "code",
   "execution_count": 3,
   "metadata": {},
   "outputs": [],
   "source": [
    "seasonSums = pd.read_csv(\"SeasonSums.csv\")\n",
    "playerGameDate = pd.read_csv(\"PlayerGameDate.csv\")"
   ]
  },
  {
   "cell_type": "code",
   "execution_count": 4,
   "metadata": {},
   "outputs": [
    {
     "data": {
      "text/plain": [
       "Index(['Position', 'Minutes played', 'Aerial duels', 'Aerial duels accuracy',\n",
       "       'Aerial duels won', 'Assists', 'Back passes', 'Back passes accuracy',\n",
       "       'Back passes accurate', 'Back passes percentage', 'Clearances',\n",
       "       'Conceded goals', 'Crosses', 'Crosses accuracy', 'Crosses accurate',\n",
       "       'Defensive duels', 'Defensive duels accuracy', 'Defensive duels won',\n",
       "       'Dribbles', 'Dribbles accuracy', 'Dribbles successful', 'Duels',\n",
       "       'Duels accuracy', 'Duels won', 'Exits', 'Forward passes',\n",
       "       'Forward passes accuracy', 'Forward passes accurate',\n",
       "       'Forward passes percentage', 'Fouls', 'Fouls suffered', 'Goal kicks',\n",
       "       'Goals', 'Interceptions', 'Long goal kicks', 'Long pass accuracy',\n",
       "       'Long passes', 'Long passes accurate', 'Long passes percentage',\n",
       "       'Loose ball duels', 'Loose ball duels accuracy', 'Loose ball duels won',\n",
       "       'Losses', 'Losses own half', 'Offensive duels',\n",
       "       'Offensive duels accuracy', 'Offensive duels won', 'Offsides',\n",
       "       'Pass accuracy', 'Passes', 'Passes accurate', 'Passes to GK',\n",
       "       'Passes to GK accurate', 'Passes to final third',\n",
       "       'Passes to final third accuracy', 'Passes to final third accurate',\n",
       "       'Passes to final third percentage', 'Passes to penalty area',\n",
       "       'Passes to penalty area accuracy', 'Passes to penalty area accurate',\n",
       "       'Progressive runs', 'Received passes', 'Recoveries',\n",
       "       'Recoveries opp. half', 'Red card', 'Red cards', 'Saves',\n",
       "       'Saves with reflexes', 'Second assists', 'Short goal kicks',\n",
       "       'Shot accuracy', 'Shot assists', 'Shots', 'Shots against',\n",
       "       'Shots on target', 'Sliding tackles', 'Sliding tackles accuracy',\n",
       "       'Sliding tackles successful', 'Through pass accuracy', 'Through passes',\n",
       "       'Through passes accurate', 'Total actions', 'Total actions successful',\n",
       "       'Touches in penalty area', 'Yellow card', 'Yellow cards', 'xA', 'xCG',\n",
       "       'xG'],\n",
       "      dtype='object')"
      ]
     },
     "execution_count": 4,
     "metadata": {},
     "output_type": "execute_result"
    }
   ],
   "source": [
    "seasonSums =seasonSums.set_index(\"Player\")\n",
    "seasonSums.columns"
   ]
  },
  {
   "cell_type": "code",
   "execution_count": 7,
   "metadata": {},
   "outputs": [
    {
     "data": {
      "text/html": [
       "<div>\n",
       "<style scoped>\n",
       "    .dataframe tbody tr th:only-of-type {\n",
       "        vertical-align: middle;\n",
       "    }\n",
       "\n",
       "    .dataframe tbody tr th {\n",
       "        vertical-align: top;\n",
       "    }\n",
       "\n",
       "    .dataframe thead th {\n",
       "        text-align: right;\n",
       "    }\n",
       "</style>\n",
       "<table border=\"1\" class=\"dataframe\">\n",
       "  <thead>\n",
       "    <tr style=\"text-align: right;\">\n",
       "      <th></th>\n",
       "      <th>Dribbles accuracy</th>\n",
       "      <th>Dribbles</th>\n",
       "    </tr>\n",
       "    <tr>\n",
       "      <th>Player</th>\n",
       "      <th></th>\n",
       "      <th></th>\n",
       "    </tr>\n",
       "  </thead>\n",
       "  <tbody>\n",
       "    <tr>\n",
       "      <th>McDonnell</th>\n",
       "      <td>0.666667</td>\n",
       "      <td>6</td>\n",
       "    </tr>\n",
       "    <tr>\n",
       "      <th>McGee</th>\n",
       "      <td>0.629630</td>\n",
       "      <td>27</td>\n",
       "    </tr>\n",
       "    <tr>\n",
       "      <th>Kim</th>\n",
       "      <td>0.628571</td>\n",
       "      <td>35</td>\n",
       "    </tr>\n",
       "    <tr>\n",
       "      <th>Carvalho</th>\n",
       "      <td>0.625000</td>\n",
       "      <td>48</td>\n",
       "    </tr>\n",
       "    <tr>\n",
       "      <th>Jacobus</th>\n",
       "      <td>0.607143</td>\n",
       "      <td>28</td>\n",
       "    </tr>\n",
       "    <tr>\n",
       "      <th>Allen</th>\n",
       "      <td>0.571429</td>\n",
       "      <td>70</td>\n",
       "    </tr>\n",
       "    <tr>\n",
       "      <th>Redington</th>\n",
       "      <td>0.555556</td>\n",
       "      <td>18</td>\n",
       "    </tr>\n",
       "    <tr>\n",
       "      <th>Gibson</th>\n",
       "      <td>0.551724</td>\n",
       "      <td>29</td>\n",
       "    </tr>\n",
       "    <tr>\n",
       "      <th>Iribarren</th>\n",
       "      <td>0.500000</td>\n",
       "      <td>22</td>\n",
       "    </tr>\n",
       "    <tr>\n",
       "      <th>Valverde</th>\n",
       "      <td>0.479167</td>\n",
       "      <td>48</td>\n",
       "    </tr>\n",
       "    <tr>\n",
       "      <th>Arens</th>\n",
       "      <td>0.461538</td>\n",
       "      <td>26</td>\n",
       "    </tr>\n",
       "    <tr>\n",
       "      <th>Kawamura</th>\n",
       "      <td>0.458333</td>\n",
       "      <td>24</td>\n",
       "    </tr>\n",
       "    <tr>\n",
       "      <th>Place</th>\n",
       "      <td>0.433333</td>\n",
       "      <td>30</td>\n",
       "    </tr>\n",
       "    <tr>\n",
       "      <th>Hagan</th>\n",
       "      <td>0.333333</td>\n",
       "      <td>6</td>\n",
       "    </tr>\n",
       "    <tr>\n",
       "      <th>Lin</th>\n",
       "      <td>0.200000</td>\n",
       "      <td>5</td>\n",
       "    </tr>\n",
       "    <tr>\n",
       "      <th>Walker</th>\n",
       "      <td>0.200000</td>\n",
       "      <td>5</td>\n",
       "    </tr>\n",
       "    <tr>\n",
       "      <th>Wellerstein</th>\n",
       "      <td>NaN</td>\n",
       "      <td>0</td>\n",
       "    </tr>\n",
       "  </tbody>\n",
       "</table>\n",
       "</div>"
      ],
      "text/plain": [
       "             Dribbles accuracy  Dribbles\n",
       "Player                                  \n",
       "McDonnell             0.666667         6\n",
       "McGee                 0.629630        27\n",
       "Kim                   0.628571        35\n",
       "Carvalho              0.625000        48\n",
       "Jacobus               0.607143        28\n",
       "Allen                 0.571429        70\n",
       "Redington             0.555556        18\n",
       "Gibson                0.551724        29\n",
       "Iribarren             0.500000        22\n",
       "Valverde              0.479167        48\n",
       "Arens                 0.461538        26\n",
       "Kawamura              0.458333        24\n",
       "Place                 0.433333        30\n",
       "Hagan                 0.333333         6\n",
       "Lin                   0.200000         5\n",
       "Walker                0.200000         5\n",
       "Wellerstein                NaN         0"
      ]
     },
     "execution_count": 7,
     "metadata": {},
     "output_type": "execute_result"
    }
   ],
   "source": [
    "fieldPlayers = seasonSums[seasonSums.get(\"Position\")!=\"GK\"]\n",
    "stat = \"Dribbles accuracy\"\n",
    "fieldPlayers.get([stat,\"Dribbles\"]).sort_values(stat, ascending=False)"
   ]
  },
  {
   "cell_type": "code",
   "execution_count": 8,
   "metadata": {},
   "outputs": [
    {
     "data": {
      "image/png": "[encoded data removed]",
      "text/plain": [
       "<Figure size 640x480 with 1 Axes>"
      ]
     },
     "metadata": {},
     "output_type": "display_data"
    }
   ],
   "source": [
    "fieldPlayers = seasonSums[seasonSums.get(\"Position\")!=\"GK\"]\n",
    "stats_ = fieldPlayers.columns.tolist()[2:3]\n",
    "for stat in stats_:\n",
    "    plt.scatter(x = fieldPlayers.get(stat),y = fieldPlayers.get(\"Goals\"))\n",
    "    try:\n",
    "        slope, intercept, r, p,std_err = stats.linregress(fieldPlayers.get(stat),fieldPlayers.get(\"Goals\"))\n",
    "        predicted = fieldPlayers.get(stat).apply(predictPoint)\n",
    "        plt.plot(fieldPlayers.get(stat),predicted)\n",
    "    except:\n",
    "        pass\n",
    "    def predictPoint(x):\n",
    "        return slope*x+intercept\n",
    "    \n",
    "    plt.title(stat+\" vs Goals Corr: \"+str(r))\n",
    "    plt.show()"
   ]
  },
  {
   "cell_type": "code",
   "execution_count": 55,
   "metadata": {},
   "outputs": [
    {
     "data": {
      "text/plain": [
       "0.07925394333557598"
      ]
     },
     "execution_count": 55,
     "metadata": {},
     "output_type": "execute_result"
    }
   ],
   "source": [
    "slope, intercept, r, p,std_err = stats.linregress(fieldPlayers.get(\"Passes to penalty area\"),fieldPlayers.get(\"xA\"))\n",
    "slope"
   ]
  },
  {
   "cell_type": "code",
   "execution_count": 33,
   "metadata": {},
   "outputs": [
    {
     "data": {
      "text/html": [
       "<div>\n",
       "<style scoped>\n",
       "    .dataframe tbody tr th:only-of-type {\n",
       "        vertical-align: middle;\n",
       "    }\n",
       "\n",
       "    .dataframe tbody tr th {\n",
       "        vertical-align: top;\n",
       "    }\n",
       "\n",
       "    .dataframe thead th {\n",
       "        text-align: right;\n",
       "    }\n",
       "</style>\n",
       "<table border=\"1\" class=\"dataframe\">\n",
       "  <thead>\n",
       "    <tr style=\"text-align: right;\">\n",
       "      <th></th>\n",
       "      <th>Saves</th>\n",
       "      <th>Saves with reflexes</th>\n",
       "      <th>Save percentage</th>\n",
       "      <th>xCG</th>\n",
       "      <th>Conceded goals</th>\n",
       "      <th>xCG-CG</th>\n",
       "      <th>Aerial duels accuracy</th>\n",
       "    </tr>\n",
       "    <tr>\n",
       "      <th>Player</th>\n",
       "      <th></th>\n",
       "      <th></th>\n",
       "      <th></th>\n",
       "      <th></th>\n",
       "      <th></th>\n",
       "      <th></th>\n",
       "      <th></th>\n",
       "    </tr>\n",
       "  </thead>\n",
       "  <tbody>\n",
       "    <tr>\n",
       "      <th>Shor</th>\n",
       "      <td>6</td>\n",
       "      <td>3</td>\n",
       "      <td>0.600000</td>\n",
       "      <td>3.81</td>\n",
       "      <td>4</td>\n",
       "      <td>-0.19</td>\n",
       "      <td>1.0</td>\n",
       "    </tr>\n",
       "    <tr>\n",
       "      <th>Wilson</th>\n",
       "      <td>41</td>\n",
       "      <td>23</td>\n",
       "      <td>0.621212</td>\n",
       "      <td>17.55</td>\n",
       "      <td>25</td>\n",
       "      <td>-7.45</td>\n",
       "      <td>0.8</td>\n",
       "    </tr>\n",
       "  </tbody>\n",
       "</table>\n",
       "</div>"
      ],
      "text/plain": [
       "        Saves  Saves with reflexes  Save percentage    xCG  Conceded goals  \\\n",
       "Player                                                                       \n",
       "Shor        6                    3         0.600000   3.81               4   \n",
       "Wilson     41                   23         0.621212  17.55              25   \n",
       "\n",
       "        xCG-CG  Aerial duels accuracy  \n",
       "Player                                 \n",
       "Shor     -0.19                    1.0  \n",
       "Wilson   -7.45                    0.8  "
      ]
     },
     "execution_count": 33,
     "metadata": {},
     "output_type": "execute_result"
    }
   ],
   "source": [
    "gks = seasonSums[seasonSums.get(\"Position\") == \"GK\"]\n",
    "gks = gks.drop(['Assists', 'Back passes', 'Back passes accuracy',\n",
    "       'Back passes accurate', 'Back passes percentage', 'Crosses', 'Crosses accuracy', 'Crosses accurate',\n",
    "       'Dribbles', 'Dribbles accuracy', 'Dribbles successful', 'Duels','Exits', 'Forward passes',\n",
    "       'Forward passes accuracy', 'Forward passes accurate',\n",
    "       'Forward passes percentage', 'Fouls', 'Fouls suffered', \n",
    "       'Goals', 'Interceptions', 'Long goal kicks',\n",
    "       'Loose ball duels', 'Loose ball duels accuracy', 'Loose ball duels won',\n",
    "       'Losses', 'Losses own half', 'Offensive duels',\n",
    "       'Offensive duels accuracy', 'Offensive duels won', 'Offsides',\n",
    "       'Passes to GK','Passes to GK accurate', 'Passes to final third',\n",
    "       'Passes to final third accuracy', 'Passes to final third accurate',\n",
    "       'Passes to final third percentage', 'Passes to penalty area',\n",
    "       'Passes to penalty area accuracy', 'Passes to penalty area accurate',\n",
    "       'Progressive runs', 'Received passes', 'Recoveries',\n",
    "       'Recoveries opp. half', 'Red card', 'Red cards', 'Second assists', 'Short goal kicks',\n",
    "       'Shot accuracy', 'Shot assists', 'Shots', \n",
    "       'Shots on target', 'Sliding tackles', 'Sliding tackles accuracy',\n",
    "       'Sliding tackles successful', 'Through pass accuracy', 'Through passes',\n",
    "       'Through passes accurate', 'Total actions', 'Total actions successful',\n",
    "       'Touches in penalty area', 'Yellow card', 'Yellow cards', 'xA', 'xG'],axis =1)\n",
    "gks.insert(2,\"Save percentage\",gks.get(\"Saves\")/gks.get(\"Shots against\"))\n",
    "gks.insert(3,\"xCG-CG\",gks.get(\"xCG\")-gks.get(\"Conceded goals\"))\n",
    "gks.get([\"Saves\",\"Saves with reflexes\",\"Save percentage\",\"xCG\",\"Conceded goals\",\"xCG-CG\",\"Aerial duels accuracy\"])"
   ]
  },
  {
   "cell_type": "code",
   "execution_count": 50,
   "metadata": {},
   "outputs": [
    {
     "data": {
      "image/png": "[encoded data removed]",
      "text/plain": [
       "<Figure size 640x480 with 1 Axes>"
      ]
     },
     "metadata": {},
     "output_type": "display_data"
    }
   ],
   "source": [
    "leagueGkDataList = [[\"Wilson\",16,10.06],[\"Zeller\",14,10.82],[\"Gonzalez\",14,15.68],[\"Learned\",8,15.63],[\"Janssen\",10,11.34],[\"Kadono\",14,14.21],[\"Cook\",5,5.4],[\"Penner\",5,6.12],[\"Limes\",9,8.53],[\"Pruter\",7,9.41],[\"Siegel\",3,1.48]]\n",
    "leagueGkData = pd.DataFrame(leagueGkDataList,columns=[\"Player\",\"CG\",\"xCG\"])\n",
    "leagueGkData.insert(3,\"xCG-CG\",leagueGkData.get(\"xCG\")-leagueGkData.get(\"CG\"))\n",
    "plt.hist(leagueGkData.get(\"xCG-CG\"),bins =16,density=True)\n",
    "plt.title(\"Distribution of CG - xCG in the Big West GKs\")\n",
    "plt.xlabel(\"xCG-CG\")\n",
    "plt.axvline(10.06-16, color=\"blue\", linestyle=\"--\",label = \"Wilson\")\n",
    "plt.legend()\n",
    "plt.show()"
   ]
  },
  {
   "cell_type": "code",
   "execution_count": 58,
   "metadata": {},
   "outputs": [
    {
     "data": {
      "text/plain": [
       "Player\n",
       "Arens          0.000000\n",
       "Hagan          0.000000\n",
       "Walker         0.000000\n",
       "Iribarren      0.166667\n",
       "Kim            0.240000\n",
       "Place          0.272727\n",
       "Redington      0.310345\n",
       "Kawamura       0.333333\n",
       "Carvalho       0.346154\n",
       "Gibson         0.368421\n",
       "Allen          0.411765\n",
       "McGee          0.421053\n",
       "Jacobus        0.526316\n",
       "Valverde       0.560000\n",
       "Lin            1.000000\n",
       "McDonnell           NaN\n",
       "Shor                NaN\n",
       "Wellerstein         NaN\n",
       "Wilson              NaN\n",
       "Name: Crosses accuracy, dtype: float64"
      ]
     },
     "execution_count": 58,
     "metadata": {},
     "output_type": "execute_result"
    }
   ],
   "source": [
    "seasonSums.get(\"Crosses accuracy\").sort_values()"
   ]
  },
  {
   "cell_type": "code",
   "execution_count": null,
   "metadata": {},
   "outputs": [],
   "source": []
  }
 ],
 "metadata": {
  "kernelspec": {
   "display_name": "Python 3",
   "language": "python",
   "name": "python3"
  },
  "language_info": {
   "codemirror_mode": {
    "name": "ipython",
    "version": 3
   },
   "file_extension": ".py",
   "mimetype": "text/x-python",
   "name": "python",
   "nbconvert_exporter": "python",
   "pygments_lexer": "ipython3",
   "version": "3.12.1"
  }
 },
 "nbformat": 4,
 "nbformat_minor": 2
}
