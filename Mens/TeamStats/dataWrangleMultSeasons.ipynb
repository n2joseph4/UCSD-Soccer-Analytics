{
 "cells": [
  {
   "cell_type": "code",
   "execution_count": 2,
   "metadata": {},
   "outputs": [],
   "source": [
    "import pandas as pd\n",
    "import os"
   ]
  },
  {
   "cell_type": "code",
   "execution_count": 3,
   "metadata": {},
   "outputs": [],
   "source": [
    "ucsdFiles = os.listdir(\"UCSD\")\n",
    "files = [file for file in ucsdFiles if \"WholeGameData\" in file and \".csv\" in file]\n"
   ]
  },
  {
   "cell_type": "code",
   "execution_count": 4,
   "metadata": {},
   "outputs": [],
   "source": [
    "def removeUnamed(df):\n",
    "    columnList = df.columns.tolist()\n",
    "    newColumnList = columnList.copy()\n",
    "    i = 0\n",
    "    while i<len(newColumnList):\n",
    "        if \"Unnamed\" in newColumnList[i]:\n",
    "            stats = newColumnList[i-1].split(\" / \")\n",
    "            newColumnList[i-1] = stats[0]\n",
    "            newColumnList[i] = \" \".join(stats)\n",
    "            newColumnList[i+1] = \" \".join(stats) + \" percentage\"\n",
    "            \n",
    "        if \"Losses\" in newColumnList[i] or \"Recoveries\" in newColumnList[i]:\n",
    "            stats = newColumnList[i].split(\" / \")\n",
    "            newColumnList[i] = stats[0]\n",
    "            newColumnList[i+1] = stats[0] + \" \"+stats[1]\n",
    "            newColumnList[i+2] = stats[0] + \" \"+stats[2]\n",
    "            newColumnList[i+3] = stats[0] + \" \"+stats[3]\n",
    "            i+=3\n",
    "        i+=1\n",
    "    columnsRenamed = dict(zip(columnList,newColumnList))\n",
    "    df = df.rename(columns=columnsRenamed)\n",
    "    return df"
   ]
  },
  {
   "cell_type": "code",
   "execution_count": 5,
   "metadata": {},
   "outputs": [],
   "source": [
    "def removePercents(df):\n",
    "    columns = df.columns.tolist()\n",
    "    for i in range(len(columns)):\n",
    "        if \"percent\" in columns[i]:\n",
    "            df.drop(columns[i],axis=1,inplace=True)\n",
    "    return df"
   ]
  },
  {
   "cell_type": "code",
   "execution_count": 6,
   "metadata": {},
   "outputs": [],
   "source": [
    "dfs =[]\n",
    "for file in files:\n",
    "    df = pd.read_csv(\"UCSD/\"+file)\n",
    "    df = removeUnamed(df)\n",
    "    df = removePercents(df)\n",
    "    dfs.append(df)"
   ]
  },
  {
   "cell_type": "code",
   "execution_count": 7,
   "metadata": {},
   "outputs": [],
   "source": [
    "merged = dfs[0]\n",
    "for df in dfs:\n",
    "    merged = pd.merge(merged,df,how=\"outer\")"
   ]
  },
  {
   "cell_type": "code",
   "execution_count": 8,
   "metadata": {},
   "outputs": [],
   "source": [
    "merged.insert(0,\"Season\", merged.get(\"Date\").apply(lambda date: date.split(\"-\")[0]))\n",
    "merged.insert(5,\"isOpponent\",merged.get(\"Team\").apply(lambda team: team !=\"UC San Diego Tritons\"))"
   ]
  },
  {
   "cell_type": "code",
   "execution_count": 9,
   "metadata": {},
   "outputs": [],
   "source": [
    "seasonSums = merged.groupby([\"Season\",\"isOpponent\"]).sum().drop([\"Date\",\"Match\",\"Competition\",\"Team\",\"Scheme\",\"Long pass %\"], axis = 1)"
   ]
  },
  {
   "cell_type": "code",
   "execution_count": 10,
   "metadata": {},
   "outputs": [
    {
     "name": "stderr",
     "output_type": "stream",
     "text": [
      "C:\\Users\\zcoch\\AppData\\Local\\Temp\\ipykernel_44596\\2347994396.py:20: PerformanceWarning: DataFrame is highly fragmented.  This is usually the result of calling `frame.insert` many times, which has poor performance.  Consider joining all columns at once using pd.concat(axis=1) instead. To get a de-fragmented frame, use `newframe = frame.copy()`\n",
      "  df.insert(31, \"Shots against on target accuracy\",df.get(\"Shots against on target\")/df.get(\"Shots against\") )\n",
      "C:\\Users\\zcoch\\AppData\\Local\\Temp\\ipykernel_44596\\2347994396.py:21: PerformanceWarning: DataFrame is highly fragmented.  This is usually the result of calling `frame.insert` many times, which has poor performance.  Consider joining all columns at once using pd.concat(axis=1) instead. To get a de-fragmented frame, use `newframe = frame.copy()`\n",
      "  df.insert(26, \"Offensive duels accuracy\",df.get(\"Offensive duels won\")/df.get(\"Offensive duels\") )\n",
      "C:\\Users\\zcoch\\AppData\\Local\\Temp\\ipykernel_44596\\2347994396.py:22: PerformanceWarning: DataFrame is highly fragmented.  This is usually the result of calling `frame.insert` many times, which has poor performance.  Consider joining all columns at once using pd.concat(axis=1) instead. To get a de-fragmented frame, use `newframe = frame.copy()`\n",
      "  df.insert(16, \"Corners with shots percentage\",df.get(\"Corners with shots\")/df.get(\"Corners\") )\n",
      "C:\\Users\\zcoch\\AppData\\Local\\Temp\\ipykernel_44596\\2347994396.py:23: PerformanceWarning: DataFrame is highly fragmented.  This is usually the result of calling `frame.insert` many times, which has poor performance.  Consider joining all columns at once using pd.concat(axis=1) instead. To get a de-fragmented frame, use `newframe = frame.copy()`\n",
      "  df.insert(16, \"Counterattacks with shots percentage\",df.get(\"Counterattacks with shots\")/df.get(\"Counterattacks\") )\n",
      "C:\\Users\\zcoch\\AppData\\Local\\Temp\\ipykernel_44596\\2347994396.py:24: PerformanceWarning: DataFrame is highly fragmented.  This is usually the result of calling `frame.insert` many times, which has poor performance.  Consider joining all columns at once using pd.concat(axis=1) instead. To get a de-fragmented frame, use `newframe = frame.copy()`\n",
      "  df.insert(16, \"Shots from outside penalty area on target accuracy\",df.get(\"Shots from outside penalty area on target\")/df.get(\"Shots from outside penalty area\") )\n",
      "C:\\Users\\zcoch\\AppData\\Local\\Temp\\ipykernel_44596\\2347994396.py:25: PerformanceWarning: DataFrame is highly fragmented.  This is usually the result of calling `frame.insert` many times, which has poor performance.  Consider joining all columns at once using pd.concat(axis=1) instead. To get a de-fragmented frame, use `newframe = frame.copy()`\n",
      "  df.insert(16, \"Positional attacks with shots percentage\",df.get(\"Positional attacks with shots\")/df.get(\"Positional attacks\") )\n",
      "C:\\Users\\zcoch\\AppData\\Local\\Temp\\ipykernel_44596\\2347994396.py:26: PerformanceWarning: DataFrame is highly fragmented.  This is usually the result of calling `frame.insert` many times, which has poor performance.  Consider joining all columns at once using pd.concat(axis=1) instead. To get a de-fragmented frame, use `newframe = frame.copy()`\n",
      "  df.insert(16, \"Shots from outside penalty area on target percentage\",df.get(\"Shots from outside penalty area on target\")/df.get(\"Shots on target\") )\n",
      "C:\\Users\\zcoch\\AppData\\Local\\Temp\\ipykernel_44596\\2347994396.py:27: PerformanceWarning: DataFrame is highly fragmented.  This is usually the result of calling `frame.insert` many times, which has poor performance.  Consider joining all columns at once using pd.concat(axis=1) instead. To get a de-fragmented frame, use `newframe = frame.copy()`\n",
      "  df.insert(64, \"Forward passes percentage\",df.get(\"Forward passes accurate\")/df.get(\"Passes accurate\") )\n",
      "C:\\Users\\zcoch\\AppData\\Local\\Temp\\ipykernel_44596\\2347994396.py:28: PerformanceWarning: DataFrame is highly fragmented.  This is usually the result of calling `frame.insert` many times, which has poor performance.  Consider joining all columns at once using pd.concat(axis=1) instead. To get a de-fragmented frame, use `newframe = frame.copy()`\n",
      "  df.insert(64, \"Back passes percentage\",df.get(\"Back passes accurate\")/df.get(\"Passes accurate\") )\n",
      "C:\\Users\\zcoch\\AppData\\Local\\Temp\\ipykernel_44596\\2347994396.py:29: PerformanceWarning: DataFrame is highly fragmented.  This is usually the result of calling `frame.insert` many times, which has poor performance.  Consider joining all columns at once using pd.concat(axis=1) instead. To get a de-fragmented frame, use `newframe = frame.copy()`\n",
      "  df.insert(64, \"Lateral passes percentage\",df.get(\"Lateral passes accurate\")/df.get(\"Passes accurate\") )\n",
      "C:\\Users\\zcoch\\AppData\\Local\\Temp\\ipykernel_44596\\2347994396.py:30: PerformanceWarning: DataFrame is highly fragmented.  This is usually the result of calling `frame.insert` many times, which has poor performance.  Consider joining all columns at once using pd.concat(axis=1) instead. To get a de-fragmented frame, use `newframe = frame.copy()`\n",
      "  df.insert(64, \"Smart passes percentage\",df.get(\"Smart passes accurate\")/df.get(\"Passes accurate\") )\n",
      "C:\\Users\\zcoch\\AppData\\Local\\Temp\\ipykernel_44596\\2347994396.py:31: PerformanceWarning: DataFrame is highly fragmented.  This is usually the result of calling `frame.insert` many times, which has poor performance.  Consider joining all columns at once using pd.concat(axis=1) instead. To get a de-fragmented frame, use `newframe = frame.copy()`\n",
      "  df.insert(64, \"Passes to final third percentage\",df.get(\"Passes to final third accurate\")/df.get(\"Passes accurate\") )\n",
      "C:\\Users\\zcoch\\AppData\\Local\\Temp\\ipykernel_44596\\2347994396.py:32: PerformanceWarning: DataFrame is highly fragmented.  This is usually the result of calling `frame.insert` many times, which has poor performance.  Consider joining all columns at once using pd.concat(axis=1) instead. To get a de-fragmented frame, use `newframe = frame.copy()`\n",
      "  df.insert(64, \"Progressive passes percentage\",df.get(\"Progressive passes accurate\")/df.get(\"Passes accurate\") )\n",
      "C:\\Users\\zcoch\\AppData\\Local\\Temp\\ipykernel_44596\\2347994396.py:33: PerformanceWarning: DataFrame is highly fragmented.  This is usually the result of calling `frame.insert` many times, which has poor performance.  Consider joining all columns at once using pd.concat(axis=1) instead. To get a de-fragmented frame, use `newframe = frame.copy()`\n",
      "  df.insert(64, \"Long passes percentage\",df.get(\"Long passes accurate\")/df.get(\"Passes accurate\") )\n",
      "C:\\Users\\zcoch\\AppData\\Local\\Temp\\ipykernel_44596\\2347994396.py:35: PerformanceWarning: DataFrame is highly fragmented.  This is usually the result of calling `frame.insert` many times, which has poor performance.  Consider joining all columns at once using pd.concat(axis=1) instead. To get a de-fragmented frame, use `newframe = frame.copy()`\n",
      "  df.insert(7, \"Difference in Goals and xG\",df.get(\"Goals\")-df.get(\"xG\") )\n",
      "C:\\Users\\zcoch\\AppData\\Local\\Temp\\ipykernel_44596\\2347994396.py:36: PerformanceWarning: DataFrame is highly fragmented.  This is usually the result of calling `frame.insert` many times, which has poor performance.  Consider joining all columns at once using pd.concat(axis=1) instead. To get a de-fragmented frame, use `newframe = frame.copy()`\n",
      "  df.insert(8, \"Goal differential\", df.get(\"Goals\")-df.get(\"Conceded goals\"))\n",
      "C:\\Users\\zcoch\\AppData\\Local\\Temp\\ipykernel_44596\\2347994396.py:28: PerformanceWarning: DataFrame is highly fragmented.  This is usually the result of calling `frame.insert` many times, which has poor performance.  Consider joining all columns at once using pd.concat(axis=1) instead. To get a de-fragmented frame, use `newframe = frame.copy()`\n",
      "  df.insert(64, \"Back passes percentage\",df.get(\"Back passes accurate\")/df.get(\"Passes accurate\") )\n",
      "C:\\Users\\zcoch\\AppData\\Local\\Temp\\ipykernel_44596\\2347994396.py:29: PerformanceWarning: DataFrame is highly fragmented.  This is usually the result of calling `frame.insert` many times, which has poor performance.  Consider joining all columns at once using pd.concat(axis=1) instead. To get a de-fragmented frame, use `newframe = frame.copy()`\n",
      "  df.insert(64, \"Lateral passes percentage\",df.get(\"Lateral passes accurate\")/df.get(\"Passes accurate\") )\n",
      "C:\\Users\\zcoch\\AppData\\Local\\Temp\\ipykernel_44596\\2347994396.py:30: PerformanceWarning: DataFrame is highly fragmented.  This is usually the result of calling `frame.insert` many times, which has poor performance.  Consider joining all columns at once using pd.concat(axis=1) instead. To get a de-fragmented frame, use `newframe = frame.copy()`\n",
      "  df.insert(64, \"Smart passes percentage\",df.get(\"Smart passes accurate\")/df.get(\"Passes accurate\") )\n",
      "C:\\Users\\zcoch\\AppData\\Local\\Temp\\ipykernel_44596\\2347994396.py:31: PerformanceWarning: DataFrame is highly fragmented.  This is usually the result of calling `frame.insert` many times, which has poor performance.  Consider joining all columns at once using pd.concat(axis=1) instead. To get a de-fragmented frame, use `newframe = frame.copy()`\n",
      "  df.insert(64, \"Passes to final third percentage\",df.get(\"Passes to final third accurate\")/df.get(\"Passes accurate\") )\n",
      "C:\\Users\\zcoch\\AppData\\Local\\Temp\\ipykernel_44596\\2347994396.py:32: PerformanceWarning: DataFrame is highly fragmented.  This is usually the result of calling `frame.insert` many times, which has poor performance.  Consider joining all columns at once using pd.concat(axis=1) instead. To get a de-fragmented frame, use `newframe = frame.copy()`\n",
      "  df.insert(64, \"Progressive passes percentage\",df.get(\"Progressive passes accurate\")/df.get(\"Passes accurate\") )\n",
      "C:\\Users\\zcoch\\AppData\\Local\\Temp\\ipykernel_44596\\2347994396.py:33: PerformanceWarning: DataFrame is highly fragmented.  This is usually the result of calling `frame.insert` many times, which has poor performance.  Consider joining all columns at once using pd.concat(axis=1) instead. To get a de-fragmented frame, use `newframe = frame.copy()`\n",
      "  df.insert(64, \"Long passes percentage\",df.get(\"Long passes accurate\")/df.get(\"Passes accurate\") )\n",
      "C:\\Users\\zcoch\\AppData\\Local\\Temp\\ipykernel_44596\\2347994396.py:35: PerformanceWarning: DataFrame is highly fragmented.  This is usually the result of calling `frame.insert` many times, which has poor performance.  Consider joining all columns at once using pd.concat(axis=1) instead. To get a de-fragmented frame, use `newframe = frame.copy()`\n",
      "  df.insert(7, \"Difference in Goals and xG\",df.get(\"Goals\")-df.get(\"xG\") )\n",
      "C:\\Users\\zcoch\\AppData\\Local\\Temp\\ipykernel_44596\\2347994396.py:36: PerformanceWarning: DataFrame is highly fragmented.  This is usually the result of calling `frame.insert` many times, which has poor performance.  Consider joining all columns at once using pd.concat(axis=1) instead. To get a de-fragmented frame, use `newframe = frame.copy()`\n",
      "  df.insert(8, \"Goal differential\", df.get(\"Goals\")-df.get(\"Conceded goals\"))\n"
     ]
    }
   ],
   "source": [
    "for df in [merged,seasonSums]:\n",
    "    \n",
    "    #inserting percentages\n",
    "    df.insert(19, \"Penalty conversion percentage\",df.get(\"Penalties converted\")/df.get(\"Penalties\") )\n",
    "    df.insert(22, \"Crossing accuracy\",df.get(\"Crosses accurate\")/df.get(\"Crosses\") )\n",
    "    df.insert(9, \"Shots on target accuracy\",df.get(\"Shots on target\")/df.get(\"Shots\") )\n",
    "    df.insert(78, \"Throw in percentage\",df.get(\"Throw ins accurate\")/df.get(\"Throw ins\") )\n",
    "    df.insert(76, \"Smart passes accuracy\",df.get(\"Smart passes accurate\")/df.get(\"Smart passes\") )\n",
    "    df.insert(74, \"Progressive passes accuracy\",df.get(\"Progressive passes accurate\")/df.get(\"Progressive passes\") )\n",
    "    df.insert(72, \"Passes to final third accuracy\",df.get(\"Passes to final third accurate\")/df.get(\"Passes to final third\") )\n",
    "    df.insert(70, \"Long passes accuracy\",df.get(\"Long passes accurate\")/df.get(\"Long passes\") )\n",
    "    df.insert(68, \"Lateral passes accuracy\",df.get(\"Lateral passes accurate\")/df.get(\"Lateral passes\") )\n",
    "    df.insert(66, \"Back passes accuracy\",df.get(\"Back passes accurate\")/df.get(\"Back passes\") )\n",
    "    df.insert(64, \"Forward passes accuracy\",df.get(\"Forward passes accurate\")/df.get(\"Forward passes\") )\n",
    "    df.insert(56, \"Duels accuracy\",df.get(\"Duels won\")/df.get(\"Duels\") )\n",
    "    df.insert(45, \"Passes accuracy\",df.get(\"Passes accurate\")/df.get(\"Passes\") )\n",
    "    df.insert(37, \"Sliding tackle percentage\",df.get(\"Sliding tackles successful\")/df.get(\"Sliding tackles\") )\n",
    "    df.insert(35, \"Aerial duels accuracy\",df.get(\"Aerial duels won\")/df.get(\"Aerial duels\") )\n",
    "    df.insert(33, \"Defensive duels accuracy\",df.get(\"Defensive duels won\")/df.get(\"Defensive duels\") )\n",
    "    df.insert(31, \"Shots against on target accuracy\",df.get(\"Shots against on target\")/df.get(\"Shots against\") )\n",
    "    df.insert(26, \"Offensive duels accuracy\",df.get(\"Offensive duels won\")/df.get(\"Offensive duels\") )\n",
    "    df.insert(16, \"Corners with shots percentage\",df.get(\"Corners with shots\")/df.get(\"Corners\") )\n",
    "    df.insert(16, \"Counterattacks with shots percentage\",df.get(\"Counterattacks with shots\")/df.get(\"Counterattacks\") )\n",
    "    df.insert(16, \"Shots from outside penalty area on target accuracy\",df.get(\"Shots from outside penalty area on target\")/df.get(\"Shots from outside penalty area\") )\n",
    "    df.insert(16, \"Positional attacks with shots percentage\",df.get(\"Positional attacks with shots\")/df.get(\"Positional attacks\") )\n",
    "    df.insert(16, \"Shots from outside penalty area on target percentage\",df.get(\"Shots from outside penalty area on target\")/df.get(\"Shots on target\") )\n",
    "    df.insert(64, \"Forward passes percentage\",df.get(\"Forward passes accurate\")/df.get(\"Passes accurate\") )\n",
    "    df.insert(64, \"Back passes percentage\",df.get(\"Back passes accurate\")/df.get(\"Passes accurate\") )\n",
    "    df.insert(64, \"Lateral passes percentage\",df.get(\"Lateral passes accurate\")/df.get(\"Passes accurate\") )\n",
    "    df.insert(64, \"Smart passes percentage\",df.get(\"Smart passes accurate\")/df.get(\"Passes accurate\") )\n",
    "    df.insert(64, \"Passes to final third percentage\",df.get(\"Passes to final third accurate\")/df.get(\"Passes accurate\") )\n",
    "    df.insert(64, \"Progressive passes percentage\",df.get(\"Progressive passes accurate\")/df.get(\"Passes accurate\") )\n",
    "    df.insert(64, \"Long passes percentage\",df.get(\"Long passes accurate\")/df.get(\"Passes accurate\") )\n",
    "    #inserting custom stats\n",
    "    df.insert(7, \"Difference in Goals and xG\",df.get(\"Goals\")-df.get(\"xG\") )\n",
    "    df.insert(8, \"Goal differential\", df.get(\"Goals\")-df.get(\"Conceded goals\"))"
   ]
  },
  {
   "cell_type": "code",
   "execution_count": 11,
   "metadata": {},
   "outputs": [],
   "source": [
    "percantagesColumns =[column for column in seasonSums.columns.tolist() if (\"accuracy\" in column) or (\"percentage\" in column)] + [\"Difference in Goals and xG\"]\n",
    "seasonPercentages = seasonSums.get(percantagesColumns).reset_index()\n",
    "seasonAverages = merged.drop([\"Competition\",\"Date\",\"Scheme\",\"Match\",\"Team\"]+percantagesColumns,axis = 1).groupby([\"Season\",\"isOpponent\"]).mean().reset_index()\n",
    "seasonStats = pd.merge(seasonAverages,seasonPercentages,how=\"outer\")\n",
    "first = seasonStats.columns.tolist()[:3]\n",
    "second = sorted(seasonStats.columns.tolist()[3:])\n",
    "seasonStats= seasonStats.get(first+second)\n"
   ]
  },
  {
   "cell_type": "code",
   "execution_count": 12,
   "metadata": {},
   "outputs": [],
   "source": [
    "first = merged.columns.tolist()[:7]\n",
    "second = sorted(merged.columns.tolist()[7:])\n",
    "merged = merged.get(first+second)\n"
   ]
  },
  {
   "cell_type": "code",
   "execution_count": 13,
   "metadata": {},
   "outputs": [],
   "source": [
    "seasonStats.to_csv(\"moreSeason.csv\",index=False)\n",
    "merged.to_csv(\"moreSeasonsGame.csv\",index = False)"
   ]
  },
  {
   "cell_type": "code",
   "execution_count": null,
   "metadata": {},
   "outputs": [],
   "source": []
  }
 ],
 "metadata": {
  "kernelspec": {
   "display_name": "Python 3",
   "language": "python",
   "name": "python3"
  },
  "language_info": {
   "codemirror_mode": {
    "name": "ipython",
    "version": 3
   },
   "file_extension": ".py",
   "mimetype": "text/x-python",
   "name": "python",
   "nbconvert_exporter": "python",
   "pygments_lexer": "ipython3",
   "version": "3.12.1"
  }
 },
 "nbformat": 4,
 "nbformat_minor": 2
}
